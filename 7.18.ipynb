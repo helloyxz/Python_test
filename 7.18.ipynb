{
 "cells": [
  {
   "cell_type": "markdown",
   "metadata": {},
   "source": [
    "# 选择\n",
    "## 布尔类型、数值和表达式\n",
    "![](../Photo/33.png)\n",
    "- 注意：比较运算符的相等是两个等到，一个等到代表赋值\n",
    "- 在Python中可以用整型0来代表False，其他数字来代表True\n",
    "- 后面还会讲到 is 在判断语句中的用发"
   ]
  },
  {
   "cell_type": "code",
   "execution_count": null,
   "metadata": {},
   "outputs": [],
   "source": [
    "a = int(10000000)"
   ]
  },
  {
   "cell_type": "code",
   "execution_count": null,
   "metadata": {},
   "outputs": [],
   "source": [
    "passwd = eval(input('请输入密码：'))\n",
    "for i in range(0,6):\n",
    "    if passwd == 926926 :\n",
    "        print('login successful')\n",
    "        print('你的账户余额为：',a)\n",
    "        b = eval(input('取款请按1，存款请按2：'))\n",
    "        if b == 1:\n",
    "            c = eval(input('请输入取款金额：'))\n",
    "            if c <= a:\n",
    "                a -= c\n",
    "            else:\n",
    "                print('账户余额不足')\n",
    "        else:\n",
    "            c = eval(input('请输入存款金额：'))\n",
    "            a += c\n",
    "        print('您的账户余额为：',a)\n",
    "    else:\n",
    "        print('invtal')\n",
    "        print('你还有',7-i,'次机会如输密码')"
   ]
  },
  {
   "cell_type": "markdown",
   "metadata": {},
   "source": [
    "## 字符串的比较使用ASCII值"
   ]
  },
  {
   "cell_type": "markdown",
   "metadata": {},
   "source": [
    "## Markdown \n",
    "- https://github.com/younghz/Markdown"
   ]
  },
  {
   "cell_type": "markdown",
   "metadata": {},
   "source": [
    "## EP:\n",
    "- <img src=\"../Photo/34.png\"></img>\n",
    "- 输入一个数字，判断其实奇数还是偶数"
   ]
  },
  {
   "cell_type": "markdown",
   "metadata": {},
   "source": [
    "## 产生随机数字\n",
    "- 函数random.randint(a,b) 可以用来产生一个a和b之间且包括a和b的随机整数"
   ]
  },
  {
   "cell_type": "markdown",
   "metadata": {},
   "source": [
    "##  其他random方法\n",
    "- random.random 返回0.0到1.0之间前闭后开区间的随机浮点\n",
    "- random.randrange(a,b) 前闭后开"
   ]
  },
  {
   "cell_type": "markdown",
   "metadata": {},
   "source": [
    "## EP：\n",
    "- 产生两个随机整数number1和number2，然后显示给用户，使用户输入数字的和，并判定其是否正确\n",
    "- 进阶:写一个随机序号点名程序"
   ]
  },
  {
   "cell_type": "code",
   "execution_count": 30,
   "metadata": {},
   "outputs": [
    {
     "name": "stdout",
     "output_type": "stream",
     "text": [
      "请第 6 行 2 列的同学回答问题\n"
     ]
    }
   ],
   "source": [
    "import random\n",
    "hang1 = random.randint(1,10)\n",
    "if hang1 == int(9) :\n",
    "    lie2 = random.randint(1,6)\n",
    "elif hang1 == int(10) :\n",
    "    lie2 = random.randint(1,4)\n",
    "else :\n",
    "    lie2 = random.randint(1,5)\n",
    "print('请第',hang1,'行',lie2,'列的同学回答问题')"
   ]
  },
  {
   "cell_type": "markdown",
   "metadata": {},
   "source": [
    "## if语句\n",
    "- 如果条件正确就执行一个单向if语句，亦即当条件为真的时候才执行if内部的语句\n",
    "- Python有很多选择语句:\n",
    "> - 单向if \n",
    "  - 双向if-else\n",
    "  - 嵌套if\n",
    "  - 多向if-elif-else\n",
    "  \n",
    "- 注意：当语句含有子语句的时候，那么一定至少要有一个缩进，也就是说如果有儿子存在，那么一定要缩进\n",
    "- 切记不可tab键和space混用，单用tab 或者 space\n",
    "- 当你输出的结果是无论if是否为真时都需要显示时，语句应该与if对齐"
   ]
  },
  {
   "cell_type": "markdown",
   "metadata": {},
   "source": [
    "## EP：\n",
    "- 用户输入一个数字，判断其实奇数还是偶数\n",
    "- 进阶：可以查看下4.5实例研究猜生日"
   ]
  },
  {
   "cell_type": "code",
   "execution_count": 31,
   "metadata": {},
   "outputs": [
    {
     "name": "stdout",
     "output_type": "stream",
     "text": [
      "请输入你的成绩：22\n",
      "C\n"
     ]
    }
   ],
   "source": [
    "a = eval(input('请输入你的成绩：'))\n",
    "if a>85 :\n",
    "    print('A')\n",
    "elif a>60 :\n",
    "    print('B')\n",
    "else :\n",
    "    print('C')"
   ]
  },
  {
   "cell_type": "markdown",
   "metadata": {},
   "source": [
    "## 双向if-else 语句\n",
    "- 如果条件为真，那么走if内部语句，否则走else内部语句"
   ]
  },
  {
   "cell_type": "markdown",
   "metadata": {},
   "source": [
    "## EP：\n",
    "- 产生两个随机整数number1和number2，然后显示给用户，使用户输入数字，并判定其是否正确,如果正确打印“you‘re correct”，否则打印正确错误"
   ]
  },
  {
   "cell_type": "markdown",
   "metadata": {},
   "source": [
    "## 嵌套if 和多向if-elif-else\n",
    "![](../Photo/35.png)"
   ]
  },
  {
   "cell_type": "markdown",
   "metadata": {},
   "source": [
    "## EP：\n",
    "- 提示用户输入一个年份，然后显示表示这一年的动物\n",
    "![](../Photo/36.png)\n",
    "- 计算身体质量指数的程序\n",
    "- BMI = 以千克为单位的体重除以以米为单位的身高的平方\n",
    "![](../Photo/37.png)"
   ]
  },
  {
   "cell_type": "code",
   "execution_count": null,
   "metadata": {},
   "outputs": [],
   "source": [
    "year = eval(input('请输入您想判断的年份：'))\n",
    "shengxiao = [\"猴\",\"鸡\",\"狗\",\"猪\",\"鼠\",\"牛\",\"虎\",\"兔\",\"龙\",\"蛇\",\"马\",\"羊\"]\n",
    "a = year%12\n",
    "print(shengxiao[a])"
   ]
  },
  {
   "cell_type": "code",
   "execution_count": 5,
   "metadata": {},
   "outputs": [
    {
     "name": "stdout",
     "output_type": "stream",
     "text": [
      "请输入您的身高(m)和体重(kg): 1.7,52\n",
      "超轻\n"
     ]
    }
   ],
   "source": [
    "h,k = eval(input('请输入您的身高(m)和体重(kg): '))\n",
    "bmi = k/(h*h)\n",
    "bmi = round(bmi,1)\n",
    "if bmi < 18.5 :\n",
    "    print(\"超轻\")\n",
    "elif bmi < 25.0 :\n",
    "    print(\"标准\")\n",
    "elif bmi < 30.0 :\n",
    "    print(\"超重\")\n",
    "else :\n",
    "    print(\"痴肥\")"
   ]
  },
  {
   "cell_type": "markdown",
   "metadata": {},
   "source": [
    "## 逻辑运算符\n",
    "![](../Photo/38.png)"
   ]
  },
  {
   "cell_type": "markdown",
   "metadata": {},
   "source": [
    "![](../Photo/39.png)\n",
    "![](../Photo/40.png)"
   ]
  },
  {
   "cell_type": "markdown",
   "metadata": {},
   "source": [
    "## EP：\n",
    "- 判定闰年：一个年份如果能被4整除但不能被100整除，或者能被400整除，那么这个年份就是闰年\n",
    "- 提示用户输入一个年份，并返回是否是闰年\n",
    "- 提示用户输入一个数字，判断其是否为水仙花数"
   ]
  },
  {
   "cell_type": "code",
   "execution_count": 1,
   "metadata": {},
   "outputs": [
    {
     "name": "stdout",
     "output_type": "stream",
     "text": [
      "请输入年份：2008\n",
      "是闰年\n"
     ]
    }
   ],
   "source": [
    "year = eval(input('请输入年份：'))\n",
    "if (year % 4 == 0 and year % 100 != 0):\n",
    "    print(\"是闰年\")\n",
    "elif year % 400 ==0 :\n",
    "    print(\"是闰年\")\n",
    "else:\n",
    "    print(\"不是闰年\")"
   ]
  },
  {
   "cell_type": "code",
   "execution_count": null,
   "metadata": {},
   "outputs": [],
   "source": [
    "import math\n",
    "num = input('请输入一个数字：')\n",
    "a = len(num)\n",
    "he = 0\n",
    "for i in range(0,a):\n",
    "    b = num[i]\n",
    "    he += b"
   ]
  },
  {
   "cell_type": "markdown",
   "metadata": {},
   "source": [
    "## 实例研究：彩票\n",
    "![](../Photo/41.png)"
   ]
  },
  {
   "cell_type": "markdown",
   "metadata": {},
   "source": [
    "# Homework\n",
    "- 1\n",
    "![](../Photo/42.png)"
   ]
  },
  {
   "cell_type": "code",
   "execution_count": 27,
   "metadata": {},
   "outputs": [
    {
     "name": "stdout",
     "output_type": "stream",
     "text": [
      "Enter a,b,c:1.0,3,1\n",
      "此方程有两个实根，为：-0.381966 and -2.61803\n"
     ]
    }
   ],
   "source": [
    "import math\n",
    "a,b,c = eval(input(\"Enter a,b,c:\"))\n",
    "q=b*b-4*a*c\n",
    "if q > 0:\n",
    "    x=math.sqrt(b*b-(4*a*c))\n",
    "    r1=(((-b)+x)/2*a)\n",
    "    r2=(((-b)-x)/2*a)\n",
    "    print(\"此方程有两个实根，为：\"+str(round(r1,6))+\" and \"+str(round(r2,5)))\n",
    "if q==0:\n",
    "    x=math.sqrt(b*b-(4*a*c))\n",
    "    r1=(((-b)+x)/2*a)\n",
    "    print(\"此方程只有一个实根为：\",r1)\n",
    "if q<0:\n",
    "    print(\"此方程没有实根\")"
   ]
  },
  {
   "cell_type": "markdown",
   "metadata": {},
   "source": [
    "- 2\n",
    "![](../Photo/43.png)"
   ]
  },
  {
   "cell_type": "code",
   "execution_count": 40,
   "metadata": {},
   "outputs": [
    {
     "name": "stdout",
     "output_type": "stream",
     "text": [
      "num1为：42\n",
      "猜一猜另一个数是多少，在屏幕上输入给出的数和你猜测的数的总和：87\n",
      "假的假的\n"
     ]
    }
   ],
   "source": [
    "import random\n",
    "num1=random.randint(0,100)\n",
    "num2=random.randint(0,100)\n",
    "print(\"num1为：\"+str(num1))\n",
    "number=eval(input(\"猜一猜另一个数是多少，在屏幕上输入给出的数和你猜测的数的总和：\"))\n",
    "if number==num1+num2:\n",
    "    print(\"你猜对了\")\n",
    "else:\n",
    "    print(\"假的假的\")"
   ]
  },
  {
   "cell_type": "markdown",
   "metadata": {},
   "source": [
    "- 3\n",
    "![](../Photo/44.png)"
   ]
  },
  {
   "cell_type": "code",
   "execution_count": 21,
   "metadata": {},
   "outputs": [
    {
     "name": "stdout",
     "output_type": "stream",
     "text": [
      "请输入今天是周几：1\n",
      "请输入未来的几天：6\n",
      "周日\n"
     ]
    }
   ],
   "source": [
    "day1=eval(input(\"请输入今天是周几：\"))\n",
    "day2=eval(input(\"请输入未来的几天：\"))\n",
    "q=[\"周日\",\"周一\",\"周二\",\"周三\",\"周四\",\"周五\",\"周六\"]\n",
    "w=(day1+day2)%7\n",
    "print(q[w])\n"
   ]
  },
  {
   "cell_type": "markdown",
   "metadata": {},
   "source": [
    "- 4\n",
    "![](../Photo/45.png)"
   ]
  },
  {
   "cell_type": "code",
   "execution_count": 44,
   "metadata": {},
   "outputs": [
    {
     "name": "stdout",
     "output_type": "stream",
     "text": [
      "请输入三个整数：4,5,6\n"
     ]
    },
    {
     "data": {
      "text/plain": [
       "[4, 5, 6]"
      ]
     },
     "execution_count": 44,
     "metadata": {},
     "output_type": "execute_result"
    }
   ],
   "source": [
    "q,w,e=eval(input(\"请输入三个整数：\"))\n",
    "a = [q,w,e]\n",
    "sorted(a)\n"
   ]
  },
  {
   "cell_type": "markdown",
   "metadata": {},
   "source": [
    "- 5\n",
    "![](../Photo/46.png)"
   ]
  },
  {
   "cell_type": "code",
   "execution_count": 47,
   "metadata": {},
   "outputs": [
    {
     "name": "stdout",
     "output_type": "stream",
     "text": [
      "请输入第一种大米的重量和价钱：50,24.59\n",
      "请输入第二种大米的重量和价钱：25,11.99\n",
      "第二种包装的价钱更好\n"
     ]
    }
   ],
   "source": [
    "x1,y1=eval(input(\"请输入第一种大米的重量和价钱：\"))\n",
    "x2,y2=eval(input(\"请输入第二种大米的重量和价钱：\"))\n",
    "p1=y1/x1\n",
    "p2=y2/x2\n",
    "if p1>p2:\n",
    "    print(\"第二种包装的价钱更好\")\n",
    "if p1==p2:\n",
    "    print(\"两种一样，选择好看的吧\")\n",
    "if p1<p2:\n",
    "    print(\"第一种包装的价钱更好\")"
   ]
  },
  {
   "cell_type": "markdown",
   "metadata": {},
   "source": [
    "- 6\n",
    "![](../Photo/47.png)"
   ]
  },
  {
   "cell_type": "code",
   "execution_count": 10,
   "metadata": {},
   "outputs": [
    {
     "name": "stdout",
     "output_type": "stream",
     "text": [
      "请输入月和年：2,2007\n",
      "在2007年中，2月有28天\n"
     ]
    }
   ],
   "source": [
    "month,year=eval(input(\"请输入月和年：\"))\n",
    "day=[31,28,31,30,31,30,31,31,30,31,30,31]\n",
    "if(month==2):\n",
    "    if (year%4==0 and year%100 != 0) or year%400==0:\n",
    "        print(\"在\"+str(year)+\"年中，\"+str(month)+\"月有\"+str(29)+\"天\")\n",
    "    else:\n",
    "        print(\"在\"+str(year)+\"年中，\"+str(month)+\"月有\"+str(day[month-1])+\"天\")\n",
    "else:\n",
    "    print(\"在\"+str(year)+\"年中，\"+str(month)+\"月有\"+str(day[month-1])+\"天\")"
   ]
  },
  {
   "cell_type": "markdown",
   "metadata": {},
   "source": [
    "- 7\n",
    "![](../Photo/48.png)"
   ]
  },
  {
   "cell_type": "code",
   "execution_count": 20,
   "metadata": {},
   "outputs": [
    {
     "name": "stdout",
     "output_type": "stream",
     "text": [
      "猜一猜硬币是正面还是反面（0为反1为正）0\n",
      "你猜对了\n"
     ]
    }
   ],
   "source": [
    "import random\n",
    "q=random.randint(0,1)\n",
    "w=eval(input(\"猜一猜硬币是正面还是反面（0为反1为正）\"))\n",
    "if w==q:\n",
    "    print(\"你猜对了\")\n",
    "else:\n",
    "    print(\"你猜错了\")"
   ]
  },
  {
   "cell_type": "markdown",
   "metadata": {},
   "source": [
    "- 8\n",
    "![](../Photo/49.png)"
   ]
  },
  {
   "cell_type": "code",
   "execution_count": 8,
   "metadata": {},
   "outputs": [
    {
     "name": "stdout",
     "output_type": "stream",
     "text": [
      "请输入剪刀(0)，石头(1)，布(2)：1\n",
      "The computer id 剪刀,you are石头,you are won\n"
     ]
    }
   ],
   "source": [
    "import random\n",
    "q=random.randint(0,2)\n",
    "a=[\"剪刀\",\"石头\",\"布\"]\n",
    "w=eval(input(\"请输入剪刀(0)，石头(1)，布(2)：\"))\n",
    "if q==w:\n",
    "    print(\"The computer id \"+a[q]+\",you are\"+a[w]+\"too,it is a drow\")\n",
    "elif q==0:\n",
    "    if w==1:\n",
    "        print(\"The computer id \"+a[q]+\",you are\"+a[w]+\",you are won\")\n",
    "    else:\n",
    "        print(\"The computer id \"+a[q]+\",you are\"+a[w]+\",you are loser\")\n",
    "elif q==1:\n",
    "    if w==0:\n",
    "        print(\"The computer id \"+a[q]+\",you are\"+a[w]+\",you are loser\")\n",
    "    else:\n",
    "        print(\"The computer id \"+a[q]+\",you are\"+a[w]+\",you are won\")\n",
    "elif q==2:\n",
    "    if w==1:\n",
    "        print(\"The computer id \"+a[q]+\",you are\"+a[w]+\",you are won\")\n",
    "    else:\n",
    "        print(\"The computer id \"+a[q]+\",you are\"+a[w]+\",you are loser\")"
   ]
  },
  {
   "cell_type": "markdown",
   "metadata": {},
   "source": [
    "- 9\n",
    "![](../Photo/50.png)"
   ]
  },
  {
   "cell_type": "code",
   "execution_count": 42,
   "metadata": {},
   "outputs": [
    {
     "name": "stdout",
     "output_type": "stream",
     "text": [
      "输入年份：2013\n",
      "输入月份：1\n",
      "输入当前月份的某天：25\n",
      "Day of the week is 星期五\n"
     ]
    }
   ],
   "source": [
    "year = eval(input('输入年份：'))\n",
    "months = eval(input('输入月份：'))\n",
    "days = eval(input('输入当前月份的某天：'))\n",
    "hdayDict = {0:'星期六',1:'星期日', 2: '星期一', 3: '星期二', 4: '星期三', 5: '星期四', 6: '星期五'}\n",
    "monDict = {1: '13', 2: '14', 3: '3', 4: '4', 5: '5', 6: '6', 7: '7', 8: '8', 9: '9', 10: '10', \\\n",
    "             11: '11', 12: '12'}\n",
    "if months == 1 or months == 2:\n",
    "    year = year - 1 \n",
    "shijishu = year // 100\n",
    "shijiyear = year % 100\n",
    "h = (days + (26 * (eval(monDict[months]) + 1)) // 10 + shijiyear + shijiyear // 4 + shijishu // 4 + 5 * shijishu) % 7\n",
    "print('Day of the week is ' + hdayDict[h])"
   ]
  },
  {
   "cell_type": "markdown",
   "metadata": {},
   "source": [
    "- 10\n",
    "![](../Photo/51.png)"
   ]
  },
  {
   "cell_type": "code",
   "execution_count": 39,
   "metadata": {},
   "outputs": [
    {
     "name": "stdout",
     "output_type": "stream",
     "text": [
      "你选择的卡片为红桃的7\n"
     ]
    }
   ],
   "source": [
    "import random\n",
    "number=[\"A\",\"2\",\"3\",\"4\",\"5\",\"6\",\"7\",\"8\",\"9\",\"10\",\"J\",\"Q\",\"K\"]\n",
    "flower=[\"梅花\",\"红桃\",\"方块\",\"黑桃\"]\n",
    "a=random.randint(0,11)\n",
    "b=random.randint(0,3)\n",
    "print(\"你选择的卡片为\"+str(flower[b])+\"的\"+str(number[a]))"
   ]
  },
  {
   "cell_type": "markdown",
   "metadata": {},
   "source": [
    "- 11\n",
    "![](../Photo/52.png)"
   ]
  },
  {
   "cell_type": "code",
   "execution_count": 18,
   "metadata": {},
   "outputs": [
    {
     "name": "stdout",
     "output_type": "stream",
     "text": [
      "请输入一个然位数：121\n",
      "121 is a palindrome\n"
     ]
    }
   ],
   "source": [
    "q=eval(input(\"请输入一个然位数：\"))\n",
    "w=str(q)\n",
    "e=\"\"\n",
    "for i in w:\n",
    "    e=i+e\n",
    "if w==e:\n",
    "    print(str(q)+\" is a palindrome\")\n",
    "else:\n",
    "    print(str(q)+\" is not a palindrome\")"
   ]
  },
  {
   "cell_type": "markdown",
   "metadata": {},
   "source": [
    "- 12\n",
    "![](../Photo/53.png)"
   ]
  },
  {
   "cell_type": "code",
   "execution_count": 5,
   "metadata": {},
   "outputs": [
    {
     "name": "stdout",
     "output_type": "stream",
     "text": [
      "输入三边长：7,1,5\n",
      "你输入的三边不合法，似不似撒？\n"
     ]
    }
   ],
   "source": [
    "q,w,e=eval(input(\"输入三边长：\"))\n",
    "if q+w>e and q+e>w and w+e>q:\n",
    "    print(\"边长为：\"+str(q+w+e))\n",
    "else:\n",
    "    print(\"你输入的三边不合法，似不似撒？\")"
   ]
  }
 ],
 "metadata": {
  "kernelspec": {
   "display_name": "Python 3",
   "language": "python",
   "name": "python3"
  },
  "language_info": {
   "codemirror_mode": {
    "name": "ipython",
    "version": 3
   },
   "file_extension": ".py",
   "mimetype": "text/x-python",
   "name": "python",
   "nbconvert_exporter": "python",
   "pygments_lexer": "ipython3",
   "version": "3.6.5"
  }
 },
 "nbformat": 4,
 "nbformat_minor": 2
}
