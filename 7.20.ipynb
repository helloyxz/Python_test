{
 "cells": [
  {
   "cell_type": "markdown",
   "metadata": {},
   "source": [
    "# 函数\n",
    "\n",
    "- 函数可以用来定义可重复代码，组织和简化\n",
    "- 一般来说一个函数在实际开发中为一个小功能\n",
    "- 一个类为一个大功能\n",
    "- 同样函数的长度不要超过一屏"
   ]
  },
  {
   "cell_type": "markdown",
   "metadata": {},
   "source": [
    "## 定义一个函数\n",
    "\n",
    "def function_name(list of parameters):\n",
    "    \n",
    "    do something\n",
    "![](../Photo/69.png)\n",
    "- 以前使用的random 或者range 或者print.. 其实都是函数或者类"
   ]
  },
  {
   "cell_type": "markdown",
   "metadata": {},
   "source": [
    "## 调用一个函数\n",
    "- functionName()\n",
    "- \"()\" 就代表调用"
   ]
  },
  {
   "cell_type": "markdown",
   "metadata": {},
   "source": [
    "![](../Photo/70.png)"
   ]
  },
  {
   "cell_type": "markdown",
   "metadata": {},
   "source": [
    "## 带返回值和不带返回值的函数\n",
    "- return 返回的内容\n",
    "- return 返回多个值\n",
    "- 一般情况下，在多个函数协同完成一个功能的时候，那么将会有返回值"
   ]
  },
  {
   "cell_type": "markdown",
   "metadata": {},
   "source": [
    "![](../Photo/71.png)\n",
    "\n",
    "- 当然也可以自定义返回None"
   ]
  },
  {
   "cell_type": "code",
   "execution_count": 3,
   "metadata": {},
   "outputs": [
    {
     "name": "stdout",
     "output_type": "stream",
     "text": [
      ">>2\n",
      "shi fou da yin(0 or 1):0\n"
     ]
    }
   ],
   "source": [
    "def jiou(a):\n",
    "    if a % 2 == 0:\n",
    "        print(\"ou\")\n",
    "    else :\n",
    "        print(\"jishu\")\n",
    "        \n",
    "a = eval(input('>>'))\n",
    "bool_a = eval(input('shi fou da yin(0 or 1):'))\n",
    "if bool_a == 1:\n",
    "    jiou(a)\n",
    "else :\n",
    "    pass"
   ]
  },
  {
   "cell_type": "code",
   "execution_count": 4,
   "metadata": {},
   "outputs": [
    {
     "name": "stdout",
     "output_type": "stream",
     "text": [
      "0 is ji shu\n",
      "1 is ou shu\n",
      "2 is ji shu\n",
      "3 is ou shu\n",
      "4 is ji shu\n",
      "5 is ou shu\n",
      "6 is ji shu\n",
      "7 is ou shu\n",
      "8 is ji shu\n",
      "9 is ou shu\n"
     ]
    }
   ],
   "source": [
    "def ji(a):\n",
    "    if a % 2 == 0:\n",
    "        print(a,'is ji shu')\n",
    "    else :\n",
    "        ou(a)\n",
    "def ou(i):\n",
    "    print(i,'is ou shu')\n",
    "\n",
    "for i in range(10):\n",
    "    ji(i)"
   ]
  },
  {
   "cell_type": "markdown",
   "metadata": {},
   "source": [
    "## EP：\n",
    "![](../Photo/72.png)"
   ]
  },
  {
   "cell_type": "markdown",
   "metadata": {},
   "source": [
    "## 类型和关键字参数\n",
    "- 普通参数\n",
    "- 多个参数\n",
    "- 默认值参数\n",
    "- 不定长参数"
   ]
  },
  {
   "cell_type": "markdown",
   "metadata": {},
   "source": [
    "## 普通参数"
   ]
  },
  {
   "cell_type": "markdown",
   "metadata": {},
   "source": [
    "## 多个参数"
   ]
  },
  {
   "cell_type": "markdown",
   "metadata": {},
   "source": [
    "## 默认值参数"
   ]
  },
  {
   "cell_type": "code",
   "execution_count": null,
   "metadata": {},
   "outputs": [],
   "source": [
    "def a(name1 = tim, name2 = jok):\n",
    "    print(name1,name2)"
   ]
  },
  {
   "cell_type": "markdown",
   "metadata": {},
   "source": [
    "## 强制命名"
   ]
  },
  {
   "cell_type": "code",
   "execution_count": null,
   "metadata": {},
   "outputs": [],
   "source": [
    "def a(a,*,b):\n",
    "    pass\n",
    "# * 意味着后面的参数是强制参数，调用时必须输变量名"
   ]
  },
  {
   "cell_type": "markdown",
   "metadata": {},
   "source": [
    "## 不定长参数\n",
    "- \\*args\n",
    "> - 不定长，来多少装多少，不装也是可以的\n",
    "  - 返回的数据类型是元组\n",
    "  - args 名字是可以修改的，只是我们约定俗成的是args\n",
    "- \\**kwargs \n",
    "> - 返回的字典\n",
    "  - 输入的一定要是表达式（键值对）"
   ]
  },
  {
   "cell_type": "code",
   "execution_count": 39,
   "metadata": {},
   "outputs": [
    {
     "name": "stdout",
     "output_type": "stream",
     "text": [
      "1 2 (3, 4, 5, 6, 7, 8, 9) 100\n",
      "{'a': 100, 'b': 500, 'c': 300}\n"
     ]
    }
   ],
   "source": [
    "def a(*ager):\n",
    "    pass\n",
    "'''\n",
    "* + 变量名 = 不定长参数（下水道）\n",
    "'''\n",
    "\n",
    "def ab(a,b,*ager):\n",
    "    print(a,b,ager)\n",
    "    '''\n",
    "    不定长参数要和普通参数混用，可以指定变量名赋值\n",
    "    '''\n",
    "\n",
    "    \n",
    "def abc(a,b,*c,d):\n",
    "    print (a,b,c,d)\n",
    "abc(1,2,3,4,5,6,7,8,9,d=100)\n",
    "\n",
    "\n",
    "def hhh(**kwarges):\n",
    "    print(kwarges)\n",
    "hhh(a=100,b=500,c=300)\n",
    "\n",
    "def lala(*args,**kwargs):\n",
    "    print(args)\n",
    "    print(kwargs)\n"
   ]
  },
  {
   "cell_type": "markdown",
   "metadata": {},
   "source": [
    "## 变量的作用域\n",
    "- 局部变量 local\n",
    "- 全局变量 global\n",
    "- globals 函数返回一个全局变量的字典，包括所有导入的变量\n",
    "- locals() 函数会以字典类型返回当前位置的全部局部变量。"
   ]
  },
  {
   "cell_type": "markdown",
   "metadata": {},
   "source": [
    "## 注意：\n",
    "- global ：在进行赋值操作的时候需要声明\n",
    "- 官方解释：This is because when you make an assignment to a variable in a scope, that variable becomes local to that scope and shadows any similarly named variable in the outer scope.\n",
    "- ![](../Photo/73.png)"
   ]
  },
  {
   "cell_type": "markdown",
   "metadata": {},
   "source": [
    "# Homework\n",
    "- 1\n",
    "![](../Photo/74.png)"
   ]
  },
  {
   "cell_type": "code",
   "execution_count": 14,
   "metadata": {},
   "outputs": [
    {
     "name": "stdout",
     "output_type": "stream",
     "text": [
      "1.0 5.0 12.0 22.0 35.0 51.0 70.0 92.0 117.0 145.0 \n",
      "\n",
      "176.0 210.0 247.0 287.0 330.0 376.0 425.0 477.0 532.0 590.0 \n",
      "\n",
      "651.0 715.0 782.0 852.0 925.0 1001.0 1080.0 1162.0 1247.0 1335.0 \n",
      "\n",
      "1426.0 1520.0 1617.0 1717.0 1820.0 1926.0 2035.0 2147.0 2262.0 2380.0 \n",
      "\n",
      "2501.0 2625.0 2752.0 2882.0 3015.0 3151.0 3290.0 3432.0 3577.0 3725.0 \n",
      "\n",
      "3876.0 4030.0 4187.0 4347.0 4510.0 4676.0 4845.0 5017.0 5192.0 5370.0 \n",
      "\n",
      "5551.0 5735.0 5922.0 6112.0 6305.0 6501.0 6700.0 6902.0 7107.0 7315.0 \n",
      "\n",
      "7526.0 7740.0 7957.0 8177.0 8400.0 8626.0 8855.0 9087.0 9322.0 9560.0 \n",
      "\n",
      "9801.0 10045.0 10292.0 10542.0 10795.0 11051.0 11310.0 11572.0 11837.0 12105.0 \n",
      "\n",
      "12376.0 12650.0 12927.0 13207.0 13490.0 13776.0 14065.0 14357.0 14652.0 14950.0 \n",
      "\n"
     ]
    }
   ],
   "source": [
    "def getPentagonalNumber(n):\n",
    "    res = n* (3*n-1)/2\n",
    "    return res\n",
    "for i in range(1,101):\n",
    "    print(getPentagonalNumber(i),end=\" \")\n",
    "    if i % 10 == 0:\n",
    "        print('\\n')\n"
   ]
  },
  {
   "cell_type": "markdown",
   "metadata": {},
   "source": [
    "- 2 \n",
    "![](../Photo/75.png)"
   ]
  },
  {
   "cell_type": "code",
   "execution_count": 41,
   "metadata": {},
   "outputs": [
    {
     "name": "stdout",
     "output_type": "stream",
     "text": [
      ">>>>>>123456789\n"
     ]
    },
    {
     "data": {
      "text/plain": [
       "45"
      ]
     },
     "execution_count": 41,
     "metadata": {},
     "output_type": "execute_result"
    }
   ],
   "source": [
    "def sumDigits(n):\n",
    "    str_n = str(n)\n",
    "    sum_ = 0\n",
    "    for i in str_n:\n",
    "        sum_ += int(i)\n",
    "    return sum_\n",
    "cin = eval(input('>>>>>>'))\n",
    "sumDigits(cin)"
   ]
  },
  {
   "cell_type": "markdown",
   "metadata": {},
   "source": [
    "- 3\n",
    "![](../Photo/76.png)"
   ]
  },
  {
   "cell_type": "code",
   "execution_count": 20,
   "metadata": {},
   "outputs": [
    {
     "name": "stdout",
     "output_type": "stream",
     "text": [
      ">>num1>>num2>>num3>>>>>3,2.4,5\n"
     ]
    },
    {
     "data": {
      "text/plain": [
       "[2.4, 3, 5]"
      ]
     },
     "execution_count": 20,
     "metadata": {},
     "output_type": "execute_result"
    }
   ],
   "source": [
    "def dispalySorteNumbers(num1,num2,num3):\n",
    "    a = [num1,num2,num3]\n",
    "    return sorted(a)\n",
    "num1,num2,num3 = eval(input('>>num1>>num2>>num3>>>>>'))\n",
    "dispalySorteNumbers(num1,num2,num3)"
   ]
  },
  {
   "cell_type": "markdown",
   "metadata": {},
   "source": [
    "- 4\n",
    "![](../Photo/77.png)"
   ]
  },
  {
   "cell_type": "code",
   "execution_count": 7,
   "metadata": {},
   "outputs": [
    {
     "name": "stdout",
     "output_type": "stream",
     "text": [
      "amount>>>>>>1000\n",
      "rate>>>>>>9\n",
      "Years \t Future Value\n",
      "1 \t 1093.81\n",
      "2 \t 1196.41\n",
      "3 \t 1308.65\n",
      "4 \t 1431.41\n",
      "5 \t 1565.68\n",
      "6 \t 1712.55\n",
      "7 \t 1873.2\n",
      "8 \t 2048.92\n",
      "9 \t 2241.12\n",
      "10 \t 2451.36\n",
      "11 \t 2681.31\n",
      "12 \t 2932.84\n",
      "13 \t 3207.96\n",
      "14 \t 3508.89\n",
      "15 \t 3838.04\n",
      "16 \t 4198.08\n",
      "17 \t 4591.89\n",
      "18 \t 5022.64\n",
      "19 \t 5493.8\n",
      "20 \t 6009.15\n",
      "21 \t 6572.85\n",
      "22 \t 7189.43\n",
      "23 \t 7863.85\n",
      "24 \t 8601.53\n",
      "25 \t 9408.41\n",
      "26 \t 10290.99\n",
      "27 \t 11256.35\n",
      "28 \t 12312.28\n",
      "29 \t 13467.25\n",
      "30 \t 14730.58\n"
     ]
    }
   ],
   "source": [
    "def futuerInvestmentValue(amount,mothInt,years=30):\n",
    "    print('Years \\t','Future Value')\n",
    "    for i in range(1,years+1):\n",
    "        amount = amount*(1+mothInt/100/12)**12\n",
    "        print(i,'\\t',round(amount,2))\n",
    "\n",
    "amount = eval(input('amount>>>>>>'))\n",
    "rate = eval(input('rate>>>>>>'))\n",
    "futuerInvestmentValue(amount,rate)"
   ]
  },
  {
   "cell_type": "markdown",
   "metadata": {},
   "source": [
    "- 5\n",
    "![](../Photo/78.png)"
   ]
  },
  {
   "cell_type": "code",
   "execution_count": 12,
   "metadata": {},
   "outputs": [
    {
     "name": "stdout",
     "output_type": "stream",
     "text": [
      "ch1>>I\n",
      "ch2>>Z\n",
      "number>>3\n",
      "I J K \n",
      "\n",
      "L M N \n",
      "\n",
      "O P Q \n",
      "\n",
      "R S T \n",
      "\n",
      "U V W \n",
      "\n",
      "X Y Z \n",
      "\n"
     ]
    }
   ],
   "source": [
    "def printChars(ch1,ch2,number):\n",
    "    int_ch1=ord(ch1)\n",
    "    int_ch2=ord(ch2)\n",
    "    a = 1\n",
    "    for i in range(int_ch1,int_ch2+1):\n",
    "        print(chr(i),end=\" \")\n",
    "        if a % number ==0 :\n",
    "            print('\\n')\n",
    "        a += 1\n",
    "ch1 = input('ch1>>')\n",
    "ch2 = input('ch2>>')\n",
    "number = eval(input('number>>'))\n",
    "printChars(ch1,ch2,number)"
   ]
  },
  {
   "cell_type": "markdown",
   "metadata": {},
   "source": [
    "- 6\n",
    "![](../Photo/79.png)"
   ]
  },
  {
   "cell_type": "code",
   "execution_count": 16,
   "metadata": {},
   "outputs": [
    {
     "name": "stdout",
     "output_type": "stream",
     "text": [
      "2010  365\n",
      "2011  365\n",
      "2012  366\n",
      "2013  365\n",
      "2014  365\n",
      "2015  365\n",
      "2016  366\n",
      "2017  365\n",
      "2018  365\n",
      "2019  365\n",
      "2020  366\n"
     ]
    }
   ],
   "source": [
    "def number(year):\n",
    "    if year % 4 == 0 and year % 100 !=0 or year % 400 ==0:\n",
    "        return 366\n",
    "    else :\n",
    "        return 365\n",
    "for i in range(2010,2021):\n",
    "    print(i,'',number(i))"
   ]
  },
  {
   "cell_type": "markdown",
   "metadata": {},
   "source": [
    "- 7\n",
    "![](../Photo/80.png)"
   ]
  },
  {
   "cell_type": "code",
   "execution_count": 18,
   "metadata": {},
   "outputs": [
    {
     "name": "stdout",
     "output_type": "stream",
     "text": [
      "x1>>y1>>x2>>y21,1,2,2\n",
      "1.4142135623730951\n"
     ]
    }
   ],
   "source": [
    "import math\n",
    "def distance(x1,y1,x2,y2):\n",
    "    res = math.sqrt((x1-x2)**2+(y1-y2)**2)\n",
    "    print(res)\n",
    "x1,y1,x2,y2 = eval(input('x1>>y1>>x2>>y2'))\n",
    "distance(x1,y1,x2,y2)"
   ]
  },
  {
   "cell_type": "markdown",
   "metadata": {},
   "source": [
    "- 8\n",
    "![](../Photo/81.png)"
   ]
  },
  {
   "cell_type": "code",
   "execution_count": null,
   "metadata": {},
   "outputs": [
    {
     "name": "stdout",
     "output_type": "stream",
     "text": [
      "p  \t 2^p-1\n",
      "2 \t 3\n",
      "3 \t 7\n",
      "5 \t 31\n"
     ]
    }
   ],
   "source": [
    "def sushu(m):\n",
    "    if m == 2:\n",
    "        return 1\n",
    "    elif m !=1 :\n",
    "        bool_ = 0\n",
    "        for i in range(2,m):\n",
    "            if m % i == 0:\n",
    "                bool_ =0\n",
    "                break\n",
    "            else :\n",
    "                bool_ = 1\n",
    "        if bool_ == 1 :\n",
    "            return 1\n",
    "    else :\n",
    "        pass\n",
    "def meisen(p):\n",
    "    if sushu(p) and sushu(2**p-1) and 2**p-1<=31:\n",
    "        print(p,'\\t',2**p-1)\n",
    "print('p  \\t 2^p-1')\n",
    "for i in range(2,32):\n",
    "    meisen(i)"
   ]
  },
  {
   "cell_type": "markdown",
   "metadata": {},
   "source": [
    "- 9\n",
    "![](../Photo/82.png)\n",
    "![](../Photo/83.png)"
   ]
  },
  {
   "cell_type": "code",
   "execution_count": 37,
   "metadata": {},
   "outputs": [
    {
     "name": "stdout",
     "output_type": "stream",
     "text": [
      "Aug 08, 2018 11:27:54\n"
     ]
    }
   ],
   "source": [
    "import time\n",
    "print(time.strftime('%h %m, %Y %H:%M:%S',time.localtime(time.time())))"
   ]
  },
  {
   "cell_type": "markdown",
   "metadata": {},
   "source": [
    "- 10\n",
    "![](../Photo/84.png)"
   ]
  },
  {
   "cell_type": "code",
   "execution_count": 26,
   "metadata": {},
   "outputs": [
    {
     "name": "stdout",
     "output_type": "stream",
     "text": [
      "You rolled  1  +  5  =  6\n",
      "point is  6\n",
      "You rolled  3  +  4  =  7\n",
      "you win\n"
     ]
    }
   ],
   "source": [
    "import random\n",
    "\n",
    "def panduan(a1,a2,sum_):\n",
    "    res1 = 0\n",
    "    res2 = 0\n",
    "    if sum_ == 2 or sum_ == 3 or sum_ == 12:\n",
    "        print('You rolled ',a1,' + ',a2,' = ',sum_)\n",
    "        print('you are lose')\n",
    "    elif sum_ == 7 or sum_ == 11:\n",
    "        print('You rolled ',a1,' + ',a2,' = ',sum_)\n",
    "        print('you win')\n",
    "    else :\n",
    "        print('You rolled ',a1,' + ',a2,' = ',sum_)\n",
    "        print('point is ',sum_)\n",
    "        a1 = random.randint(1,6)\n",
    "        a2 = random.randint(1,6)\n",
    "        sum_ = a1 +a2\n",
    "        panduan(a1,a2,sum_)\n",
    "a1 = random.randint(1,6)\n",
    "a2 = random.randint(1,6)\n",
    "sum_ = a1 +a2\n",
    "panduan(a1,a2,sum_)"
   ]
  },
  {
   "cell_type": "markdown",
   "metadata": {},
   "source": [
    "- 11 \n",
    "### 去网上寻找如何用Python代码发送邮件"
   ]
  },
  {
   "cell_type": "code",
   "execution_count": 29,
   "metadata": {},
   "outputs": [
    {
     "ename": "SMTPAuthenticationError",
     "evalue": "(535, b'Error: \\xc7\\xeb\\xca\\xb9\\xd3\\xc3\\xca\\xda\\xc8\\xa8\\xc2\\xeb\\xb5\\xc7\\xc2\\xbc\\xa1\\xa3\\xcf\\xea\\xc7\\xe9\\xc7\\xeb\\xbf\\xb4: http://service.mail.qq.com/cgi-bin/help?subtype=1&&id=28&&no=1001256')",
     "output_type": "error",
     "traceback": [
      "\u001b[1;31m---------------------------------------------------------------------------\u001b[0m",
      "\u001b[1;31mSMTPAuthenticationError\u001b[0m                   Traceback (most recent call last)",
      "\u001b[1;32m<ipython-input-29-5e2260bbf727>\u001b[0m in \u001b[0;36m<module>\u001b[1;34m()\u001b[0m\n\u001b[0;32m      4\u001b[0m \u001b[0msmtp\u001b[0m \u001b[1;33m=\u001b[0m \u001b[0msmtplib\u001b[0m\u001b[1;33m.\u001b[0m\u001b[0mSMTP\u001b[0m\u001b[1;33m(\u001b[0m\u001b[1;33m)\u001b[0m\u001b[1;33m\u001b[0m\u001b[0m\n\u001b[0;32m      5\u001b[0m \u001b[0msmtp\u001b[0m\u001b[1;33m.\u001b[0m\u001b[0mconnect\u001b[0m\u001b[1;33m(\u001b[0m\u001b[1;34m'smtp.qq.com'\u001b[0m\u001b[1;33m,\u001b[0m\u001b[1;36m25\u001b[0m\u001b[1;33m)\u001b[0m\u001b[1;33m\u001b[0m\u001b[0m\n\u001b[1;32m----> 6\u001b[1;33m \u001b[0msmtp\u001b[0m\u001b[1;33m.\u001b[0m\u001b[0mlogin\u001b[0m\u001b[1;33m(\u001b[0m\u001b[0musername\u001b[0m\u001b[1;33m,\u001b[0m \u001b[0mpassword\u001b[0m\u001b[1;33m)\u001b[0m\u001b[1;33m\u001b[0m\u001b[0m\n\u001b[0m\u001b[0;32m      7\u001b[0m \u001b[0msmtp\u001b[0m\u001b[1;33m.\u001b[0m\u001b[0msendmail\u001b[0m\u001b[1;33m(\u001b[0m\u001b[0musername\u001b[0m\u001b[1;33m,\u001b[0m \u001b[1;34m'2643547070@qq.com'\u001b[0m\u001b[1;33m,\u001b[0m\u001b[1;34m'this is a test mail'\u001b[0m\u001b[1;33m)\u001b[0m\u001b[1;33m\u001b[0m\u001b[0m\n\u001b[0;32m      8\u001b[0m \u001b[0msmtp\u001b[0m\u001b[1;33m.\u001b[0m\u001b[0mquit\u001b[0m\u001b[1;33m(\u001b[0m\u001b[1;33m)\u001b[0m\u001b[1;33m\u001b[0m\u001b[0m\n",
      "\u001b[1;32mC:\\ProgramData\\Anaconda3\\lib\\smtplib.py\u001b[0m in \u001b[0;36mlogin\u001b[1;34m(self, user, password, initial_response_ok)\u001b[0m\n\u001b[0;32m    728\u001b[0m \u001b[1;33m\u001b[0m\u001b[0m\n\u001b[0;32m    729\u001b[0m         \u001b[1;31m# We could not login successfully.  Return result of last attempt.\u001b[0m\u001b[1;33m\u001b[0m\u001b[1;33m\u001b[0m\u001b[0m\n\u001b[1;32m--> 730\u001b[1;33m         \u001b[1;32mraise\u001b[0m \u001b[0mlast_exception\u001b[0m\u001b[1;33m\u001b[0m\u001b[0m\n\u001b[0m\u001b[0;32m    731\u001b[0m \u001b[1;33m\u001b[0m\u001b[0m\n\u001b[0;32m    732\u001b[0m     \u001b[1;32mdef\u001b[0m \u001b[0mstarttls\u001b[0m\u001b[1;33m(\u001b[0m\u001b[0mself\u001b[0m\u001b[1;33m,\u001b[0m \u001b[0mkeyfile\u001b[0m\u001b[1;33m=\u001b[0m\u001b[1;32mNone\u001b[0m\u001b[1;33m,\u001b[0m \u001b[0mcertfile\u001b[0m\u001b[1;33m=\u001b[0m\u001b[1;32mNone\u001b[0m\u001b[1;33m,\u001b[0m \u001b[0mcontext\u001b[0m\u001b[1;33m=\u001b[0m\u001b[1;32mNone\u001b[0m\u001b[1;33m)\u001b[0m\u001b[1;33m:\u001b[0m\u001b[1;33m\u001b[0m\u001b[0m\n",
      "\u001b[1;32mC:\\ProgramData\\Anaconda3\\lib\\smtplib.py\u001b[0m in \u001b[0;36mlogin\u001b[1;34m(self, user, password, initial_response_ok)\u001b[0m\n\u001b[0;32m    719\u001b[0m                 (code, resp) = self.auth(\n\u001b[0;32m    720\u001b[0m                     \u001b[0mauthmethod\u001b[0m\u001b[1;33m,\u001b[0m \u001b[0mgetattr\u001b[0m\u001b[1;33m(\u001b[0m\u001b[0mself\u001b[0m\u001b[1;33m,\u001b[0m \u001b[0mmethod_name\u001b[0m\u001b[1;33m)\u001b[0m\u001b[1;33m,\u001b[0m\u001b[1;33m\u001b[0m\u001b[0m\n\u001b[1;32m--> 721\u001b[1;33m                     initial_response_ok=initial_response_ok)\n\u001b[0m\u001b[0;32m    722\u001b[0m                 \u001b[1;31m# 235 == 'Authentication successful'\u001b[0m\u001b[1;33m\u001b[0m\u001b[1;33m\u001b[0m\u001b[0m\n\u001b[0;32m    723\u001b[0m                 \u001b[1;31m# 503 == 'Error: already authenticated'\u001b[0m\u001b[1;33m\u001b[0m\u001b[1;33m\u001b[0m\u001b[0m\n",
      "\u001b[1;32mC:\\ProgramData\\Anaconda3\\lib\\smtplib.py\u001b[0m in \u001b[0;36mauth\u001b[1;34m(self, mechanism, authobject, initial_response_ok)\u001b[0m\n\u001b[0;32m    640\u001b[0m         \u001b[1;32mif\u001b[0m \u001b[0mcode\u001b[0m \u001b[1;32min\u001b[0m \u001b[1;33m(\u001b[0m\u001b[1;36m235\u001b[0m\u001b[1;33m,\u001b[0m \u001b[1;36m503\u001b[0m\u001b[1;33m)\u001b[0m\u001b[1;33m:\u001b[0m\u001b[1;33m\u001b[0m\u001b[0m\n\u001b[0;32m    641\u001b[0m             \u001b[1;32mreturn\u001b[0m \u001b[1;33m(\u001b[0m\u001b[0mcode\u001b[0m\u001b[1;33m,\u001b[0m \u001b[0mresp\u001b[0m\u001b[1;33m)\u001b[0m\u001b[1;33m\u001b[0m\u001b[0m\n\u001b[1;32m--> 642\u001b[1;33m         \u001b[1;32mraise\u001b[0m \u001b[0mSMTPAuthenticationError\u001b[0m\u001b[1;33m(\u001b[0m\u001b[0mcode\u001b[0m\u001b[1;33m,\u001b[0m \u001b[0mresp\u001b[0m\u001b[1;33m)\u001b[0m\u001b[1;33m\u001b[0m\u001b[0m\n\u001b[0m\u001b[0;32m    643\u001b[0m \u001b[1;33m\u001b[0m\u001b[0m\n\u001b[0;32m    644\u001b[0m     \u001b[1;32mdef\u001b[0m \u001b[0mauth_cram_md5\u001b[0m\u001b[1;33m(\u001b[0m\u001b[0mself\u001b[0m\u001b[1;33m,\u001b[0m \u001b[0mchallenge\u001b[0m\u001b[1;33m=\u001b[0m\u001b[1;32mNone\u001b[0m\u001b[1;33m)\u001b[0m\u001b[1;33m:\u001b[0m\u001b[1;33m\u001b[0m\u001b[0m\n",
      "\u001b[1;31mSMTPAuthenticationError\u001b[0m: (535, b'Error: \\xc7\\xeb\\xca\\xb9\\xd3\\xc3\\xca\\xda\\xc8\\xa8\\xc2\\xeb\\xb5\\xc7\\xc2\\xbc\\xa1\\xa3\\xcf\\xea\\xc7\\xe9\\xc7\\xeb\\xbf\\xb4: http://service.mail.qq.com/cgi-bin/help?subtype=1&&id=28&&no=1001256')"
     ]
    }
   ],
   "source": [
    "import smtplib\n",
    "username = '401000709@qq.com'\n",
    "password = 'restart1013.'\n",
    "smtp = smtplib.SMTP() \n",
    "smtp.connect('smtp.qq.com',25) \n",
    "smtp.login(username, password) \n",
    "smtp.sendmail(username, '2643547070@qq.com','this is a test mail') \n",
    "smtp.quit()"
   ]
  }
 ],
 "metadata": {
  "kernelspec": {
   "display_name": "Python 3",
   "language": "python",
   "name": "python3"
  },
  "language_info": {
   "codemirror_mode": {
    "name": "ipython",
    "version": 3
   },
   "file_extension": ".py",
   "mimetype": "text/x-python",
   "name": "python",
   "nbconvert_exporter": "python",
   "pygments_lexer": "ipython3",
   "version": "3.6.5"
  }
 },
 "nbformat": 4,
 "nbformat_minor": 2
}
